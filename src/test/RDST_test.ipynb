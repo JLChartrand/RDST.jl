{
 "cells": [
  {
   "cell_type": "markdown",
   "metadata": {},
   "source": [
    "# Test on the RDST package"
   ]
  },
  {
   "cell_type": "markdown",
   "metadata": {},
   "source": [
    "RandomStreams as been took from https://github.com/prsteele/RandomStreams.jl. Modification as been made but the code is largely inspire by it. The original code as been partly updated to julia 1.0.0 and a part as been droped (line 136 and 137 of mrg32k3a.jl in src of the original work).\n",
    "\n",
    "Xoshiro as been added to the generator.\n",
    "\n",
    "The work left is to fix line 136 and 137 of the original code. I didn't found the documentation to do so in julia 1.0.0 documentations.\n",
    "\n",
    "The code could be more general. A lot of function traduced to take the xoshiro generator is a simple traduction of the the code takin mrg32k3a and those function could simply take an abstractRNGGen."
   ]
  },
  {
   "cell_type": "markdown",
   "metadata": {},
   "source": [
    "Test using local files."
   ]
  },
  {
   "cell_type": "code",
   "execution_count": null,
   "metadata": {},
   "outputs": [],
   "source": [
    "include(\"../src/RDST.jl\")\n",
    "using Main.RDST"
   ]
  },
  {
   "cell_type": "markdown",
   "metadata": {},
   "source": [
    "Test using remote repository. Please do not run if you check some local modifications."
   ]
  },
  {
   "cell_type": "code",
   "execution_count": null,
   "metadata": {},
   "outputs": [],
   "source": [
    "using Pkg\n",
    "\n",
    "# Pkg.add(\"Suppressor\")\n",
    "using Suppressor\n",
    "@suppress Pkg.rm(\"RDST\")\n",
    "Pkg.update()\n",
    "Pkg.add(PackageSpec(url = \"https://github.com/JLChartrand/RDST.jl.git\"))\n",
    "\n",
    "using RDST"
   ]
  },
  {
   "cell_type": "markdown",
   "metadata": {},
   "source": [
    "## MRG32K3a"
   ]
  },
  {
   "cell_type": "code",
   "execution_count": null,
   "metadata": {},
   "outputs": [],
   "source": [
    "mrg_gen1 = MRG32k3aGen([1,2,3,4,5,6])"
   ]
  },
  {
   "cell_type": "code",
   "execution_count": null,
   "metadata": {},
   "outputs": [],
   "source": [
    "mrg_gen1 = MRG32k3aGen()"
   ]
  },
  {
   "cell_type": "code",
   "execution_count": null,
   "metadata": {},
   "outputs": [],
   "source": [
    "show(mrg_gen1)"
   ]
  },
  {
   "cell_type": "code",
   "execution_count": null,
   "metadata": {},
   "outputs": [],
   "source": [
    "mrg_1 = next_stream(mrg_gen1)"
   ]
  },
  {
   "cell_type": "code",
   "execution_count": null,
   "metadata": {},
   "outputs": [],
   "source": [
    "stream1a = [rand(mrg_1) for i in 1:10]\n",
    "reset_substream!(mrg_1)\n",
    "stream1b = [rand(mrg_1) for i in 1:10]\n",
    "stream1a == stream1b"
   ]
  },
  {
   "cell_type": "code",
   "execution_count": null,
   "metadata": {},
   "outputs": [],
   "source": [
    "next_substream!(mrg_1)\n",
    "stream2a = [rand(mrg_1) for i in 1:10]\n",
    "reset_stream!(mrg_1)\n",
    "next_substream!(mrg_1)\n",
    "stream2b = [rand(mrg_1) for i in 1:10]\n",
    "stream2a == stream2b"
   ]
  },
  {
   "cell_type": "code",
   "execution_count": null,
   "metadata": {},
   "outputs": [],
   "source": [
    "reset_stream!(mrg_1)\n",
    "mrg_2 = next_stream(mrg_gen1)"
   ]
  },
  {
   "cell_type": "markdown",
   "metadata": {},
   "source": [
    "## XOSHIRO"
   ]
  },
  {
   "cell_type": "code",
   "execution_count": null,
   "metadata": {},
   "outputs": [],
   "source": [
    "xos_gen1 = Xoshiro256plusGen([UInt64(1087877623798),UInt64(234568789008097862),UInt64(3867597),UInt64(4706596347)])"
   ]
  },
  {
   "cell_type": "code",
   "execution_count": null,
   "metadata": {},
   "outputs": [],
   "source": [
    "show(xos_gen1)"
   ]
  },
  {
   "cell_type": "code",
   "execution_count": null,
   "metadata": {},
   "outputs": [],
   "source": [
    "xos_1 = next_stream(xos_gen1)"
   ]
  },
  {
   "cell_type": "code",
   "execution_count": null,
   "metadata": {},
   "outputs": [],
   "source": [
    "stream1a = [rand(xos_1) for i in 1:10]\n",
    "reset_substream!(xos_1)\n",
    "stream1b = [rand(xos_1) for i in 1:10]\n",
    "println(stream1a)\n",
    "stream1a == stream1b"
   ]
  },
  {
   "cell_type": "code",
   "execution_count": null,
   "metadata": {},
   "outputs": [],
   "source": [
    "a = [2,456,754]\n",
    "b = [1,1,1]\n",
    "b[:] = xor.(a,b)"
   ]
  },
  {
   "cell_type": "code",
   "execution_count": null,
   "metadata": {},
   "outputs": [],
   "source": [
    "show(xos_1)\n",
    "println(\"  \\\\\")\n",
    "next_substream!(xos_1)\n",
    "show(xos_1)\n",
    "println(\"  \\\\\")\n",
    "stream2a = [rand(xos_1) for i in 1:10]\n",
    "reset_stream!(xos_1)\n",
    "next_substream!(xos_1)\n",
    "stream2b = [rand(xos_1) for i in 1:10]\n",
    "println(stream2a)\n",
    "stream2a == stream2b\n",
    "#after 10 rundem number, get the next substream, generate 10 new Float (stream2a)\n",
    "#reset the stream, get the next substream, generate 10 new Float (stream2b)\n",
    "# the generated Float are the same"
   ]
  },
  {
   "cell_type": "code",
   "execution_count": null,
   "metadata": {},
   "outputs": [],
   "source": [
    "reset_stream!(xos_1)\n",
    "show(xos_1)"
   ]
  },
  {
   "cell_type": "code",
   "execution_count": null,
   "metadata": {},
   "outputs": [],
   "source": [
    "xos_2 = next_stream(xos_gen1)"
   ]
  },
  {
   "cell_type": "code",
   "execution_count": null,
   "metadata": {},
   "outputs": [],
   "source": [
    "xos_3 = next_stream(xos_gen1)"
   ]
  },
  {
   "cell_type": "code",
   "execution_count": null,
   "metadata": {},
   "outputs": [],
   "source": []
  }
 ],
 "metadata": {
  "kernelspec": {
   "display_name": "Julia 1.1.0",
   "language": "julia",
   "name": "julia-1.1"
  },
  "language_info": {
   "file_extension": ".jl",
   "mimetype": "application/julia",
   "name": "julia",
   "version": "1.1.0"
  }
 },
 "nbformat": 4,
 "nbformat_minor": 2
}
